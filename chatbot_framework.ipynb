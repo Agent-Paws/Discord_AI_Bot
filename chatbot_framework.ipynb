{
 "cells": [
  {
   "cell_type": "code",
   "execution_count": 1,
   "metadata": {
    "collapsed": true
   },
   "outputs": [
    {
     "name": "stdout",
     "output_type": "stream",
     "text": [
      "WARNING:tensorflow:From /Users/danielkrasovski/tensorflow_macos_venv/lib/python3.8/site-packages/tensorflow/python/compat/v2_compat.py:96: disable_resource_variables (from tensorflow.python.ops.variable_scope) is deprecated and will be removed in a future version.\n",
      "Instructions for updating:\n",
      "non-resource variables are not supported in the long term\n",
      "Scipy not supported!\n"
     ]
    }
   ],
   "source": [
    "# things we need for NLP\n",
    "import nltk\n",
    "from nltk.stem.lancaster import LancasterStemmer\n",
    "stemmer = LancasterStemmer()\n",
    "\n",
    "# things we need for Tensorflow\n",
    "import numpy as np\n",
    "import tflearn\n",
    "import csv\n",
    "import random"
   ]
  },
  {
   "cell_type": "code",
   "execution_count": 2,
   "outputs": [],
   "source": [
    "# restore all of our data structures\n",
    "import pickle\n",
    "data = pickle.load( open( \"models/training_data\", \"rb\" ) )\n",
    "words = data['words']\n",
    "classes = data['classes']\n",
    "train_x = data['train_x']\n",
    "train_y = data['train_y']\n",
    "\n",
    "# import our chat-bot intents file\n",
    "import json\n",
    "with open('data/intents.json') as json_data:\n",
    "    intents = json.load(json_data)"
   ],
   "metadata": {
    "collapsed": false,
    "pycharm": {
     "name": "#%%\n"
    }
   }
  },
  {
   "cell_type": "code",
   "execution_count": 3,
   "outputs": [
    {
     "name": "stdout",
     "output_type": "stream",
     "text": [
      "WARNING:tensorflow:From /Users/danielkrasovski/tensorflow_macos_venv/lib/python3.8/site-packages/tflearn/initializations.py:164: calling TruncatedNormal.__init__ (from tensorflow.python.ops.init_ops) with dtype is deprecated and will be removed in a future version.\n",
      "Instructions for updating:\n",
      "Call initializer instance with the dtype argument instead of passing it to the constructor\n"
     ]
    }
   ],
   "source": [
    "# Build neural network\n",
    "net = tflearn.input_data(shape=[None, len(train_x[0])])\n",
    "net = tflearn.fully_connected(net, 8)\n",
    "net = tflearn.fully_connected(net, 8)\n",
    "net = tflearn.fully_connected(net, len(train_y[0]), activation='softmax')\n",
    "net = tflearn.regression(net)\n",
    "\n",
    "# Define model and setup tensorboard\n",
    "model = tflearn.DNN(net, tensorboard_dir='tflearn_logs')"
   ],
   "metadata": {
    "collapsed": false,
    "pycharm": {
     "name": "#%%\n"
    }
   }
  },
  {
   "cell_type": "code",
   "execution_count": 4,
   "outputs": [],
   "source": [
    "def clean_up_sentence(sentence):\n",
    "    # tokenize the pattern\n",
    "    sentence_words = nltk.word_tokenize(sentence)\n",
    "    # stem each word\n",
    "    sentence_words = [stemmer.stem(word.lower()) for word in sentence_words]\n",
    "    return sentence_words\n",
    "\n",
    "# return bag of words array: 0 or 1 for each word in the bag that exists in the sentence\n",
    "def bow(sentence, words, show_details=False):\n",
    "    # tokenize the pattern\n",
    "    sentence_words = clean_up_sentence(sentence)\n",
    "    # bag of words\n",
    "    bag = [0]*len(words)\n",
    "    for s in sentence_words:\n",
    "        for i,w in enumerate(words):\n",
    "            if w == s:\n",
    "                bag[i] = 1\n",
    "                if show_details:\n",
    "                    print (\"found in bag: %s\" % w)\n",
    "\n",
    "    return np.array(bag)"
   ],
   "metadata": {
    "collapsed": false,
    "pycharm": {
     "name": "#%%\n"
    }
   }
  },
  {
   "cell_type": "code",
   "execution_count": 5,
   "outputs": [
    {
     "name": "stdout",
     "output_type": "stream",
     "text": [
      "INFO:tensorflow:Restoring parameters from /Users/danielkrasovski/Documents/GitHub/Discord_AI_Bot/models/model.tflearn\n"
     ]
    }
   ],
   "source": [
    "model.load('models/model.tflearn')"
   ],
   "metadata": {
    "collapsed": false,
    "pycharm": {
     "name": "#%%\n"
    }
   }
  },
  {
   "cell_type": "code",
   "execution_count": 6,
   "outputs": [],
   "source": [
    "# create a data structure to hold user context\n",
    "context = {}\n",
    "\n",
    "ERROR_THRESHOLD = 0.25\n",
    "def classify(sentence):\n",
    "    # generate probabilities from the model\n",
    "    results = model.predict([bow(sentence, words)])[0]\n",
    "    # filter out predictions below a threshold\n",
    "    results = [[i, r] for i, r in enumerate(results) if r > ERROR_THRESHOLD]\n",
    "    # sort by strength of probability\n",
    "    results.sort(key=lambda x: x[1], reverse=True)\n",
    "    return_list = []\n",
    "    for r in results:\n",
    "        return_list.append((classes[r[0]], r[1]))\n",
    "    # return tuple of intent and probability\n",
    "    return return_list\n",
    "\n",
    "\n",
    "def response(sentence, userID='123', show_details=False):\n",
    "    results = classify(sentence)\n",
    "    # if we have a classification then find the matching intent tag\n",
    "    if results:\n",
    "        # loop as long as there are matches to process\n",
    "        while results:\n",
    "            for i in intents['intents']:\n",
    "                # find a tag matching the first result\n",
    "                if i['tag'] == results[0][0]:\n",
    "                    # set context for this intent if necessary\n",
    "                    if 'context_set' in i:\n",
    "                        if show_details: print('context:', i['context_set'])\n",
    "                        context[userID] = i['context_set']\n",
    "\n",
    "                    # check if this intent is contextual and applies to this user's conversation\n",
    "                    if not 'context_filter' in i or \\\n",
    "                            (userID in context and 'context_filter' in i and i['context_filter'] == context[userID]):\n",
    "                        if show_details: print('tag:', i['tag'])\n",
    "                        # a random response from the intent\n",
    "                        answer = i['responses']\n",
    "                        answer = ', '.join(map(str, answer))\n",
    "                        answer_list = []\n",
    "                        with open(answer, 'r', encoding=\"utf-8\") as file:\n",
    "                            reader = csv.reader(file)\n",
    "                            k = 0\n",
    "                            for row in reader:\n",
    "                                answer_list.insert(k, row)\n",
    "                                k += 1\n",
    "                        if i['tag'] != \"Easter Eggs\":\n",
    "                            answer = random.sample(answer_list, 10)\n",
    "                            answer = ', '.join(map(str, answer))\n",
    "                            answer = answer.replace(\"[\", \"\").replace(\"'\", \"\").replace(\"]\", \"\")\n",
    "                            tag = random.choice(i['start'])\n",
    "                            tag = ''.join(map(str, tag))\n",
    "                            return tag + \" \" + answer\n",
    "                        else:\n",
    "                            answer = random.choice(answer_list)\n",
    "                            answer = ''.join(map(str, answer))\n",
    "                            answer = answer.replace(\"{\", \"\").replace(\"}\", \"\")\n",
    "                            return answer\n",
    "\n",
    "\n",
    "            results.pop(0)"
   ],
   "metadata": {
    "collapsed": false,
    "pycharm": {
     "name": "#%%\n"
    }
   }
  },
  {
   "cell_type": "code",
   "execution_count": 7,
   "outputs": [
    {
     "name": "stderr",
     "output_type": "stream",
     "text": [
      "Exception in Tkinter callback\n",
      "Traceback (most recent call last):\n",
      "  File \"/Users/danielkrasovski/.pyenv/versions/3.8.7/lib/python3.8/tkinter/__init__.py\", line 1895, in __call__\n",
      "    return self.func(*args)\n",
      "  File \"<ipython-input-7-666e8703206e>\", line 34, in main\n",
      "    bot.set(response(question))\n",
      "  File \"<ipython-input-6-4627341541d9>\", line 41, in response\n",
      "    with open(answer, 'r', encoding=\"utf-8\") as file:\n",
      "FileNotFoundError: [Errno 2] No such file or directory: 'data/responses_csv/languages/Arabic.csv'\n",
      "Exception in Tkinter callback\n",
      "Traceback (most recent call last):\n",
      "  File \"/Users/danielkrasovski/.pyenv/versions/3.8.7/lib/python3.8/tkinter/__init__.py\", line 1895, in __call__\n",
      "    return self.func(*args)\n",
      "  File \"<ipython-input-7-666e8703206e>\", line 34, in main\n",
      "    bot.set(response(question))\n",
      "  File \"<ipython-input-6-4627341541d9>\", line 41, in response\n",
      "    with open(answer, 'r', encoding=\"utf-8\") as file:\n",
      "FileNotFoundError: [Errno 2] No such file or directory: 'data/responses/easter_eggs.csv'\n",
      "Exception in Tkinter callback\n",
      "Traceback (most recent call last):\n",
      "  File \"/Users/danielkrasovski/.pyenv/versions/3.8.7/lib/python3.8/tkinter/__init__.py\", line 1895, in __call__\n",
      "    return self.func(*args)\n",
      "  File \"<ipython-input-7-666e8703206e>\", line 34, in main\n",
      "    bot.set(response(question))\n",
      "  File \"<ipython-input-6-4627341541d9>\", line 41, in response\n",
      "    with open(answer, 'r', encoding=\"utf-8\") as file:\n",
      "FileNotFoundError: [Errno 2] No such file or directory: 'data/responses/easter_eggs.csv'\n",
      "Exception in Tkinter callback\n",
      "Traceback (most recent call last):\n",
      "  File \"/Users/danielkrasovski/.pyenv/versions/3.8.7/lib/python3.8/tkinter/__init__.py\", line 1895, in __call__\n",
      "    return self.func(*args)\n",
      "  File \"<ipython-input-7-666e8703206e>\", line 34, in main\n",
      "    bot.set(response(question))\n",
      "  File \"<ipython-input-6-4627341541d9>\", line 41, in response\n",
      "    with open(answer, 'r', encoding=\"utf-8\") as file:\n",
      "FileNotFoundError: [Errno 2] No such file or directory: 'data/responses/easter_eggs.csv'\n",
      "Exception in Tkinter callback\n",
      "Traceback (most recent call last):\n",
      "  File \"/Users/danielkrasovski/.pyenv/versions/3.8.7/lib/python3.8/tkinter/__init__.py\", line 1895, in __call__\n",
      "    return self.func(*args)\n",
      "  File \"<ipython-input-7-666e8703206e>\", line 34, in main\n",
      "    bot.set(response(question))\n",
      "  File \"<ipython-input-6-4627341541d9>\", line 41, in response\n",
      "    with open(answer, 'r', encoding=\"utf-8\") as file:\n",
      "FileNotFoundError: [Errno 2] No such file or directory: 'data/responses/easter_eggs.csv'\n"
     ]
    }
   ],
   "source": [
    "from tkinter import *\n",
    "\n",
    "root = Tk()\n",
    "root.title(\"Chat Bot\")\n",
    "root.geometry(\"400x500\")\n",
    "root.resizable(width=FALSE, height=FALSE)\n",
    "\n",
    "user = StringVar()\n",
    "bot = StringVar()\n",
    "\n",
    "main_menu = Menu(root)\n",
    "\n",
    "# Create the submenu\n",
    "file_menu = Menu(root)\n",
    "\n",
    "# Add commands to submenu\n",
    "file_menu.add_command(label=\"Can I have some thriller Movies\")\n",
    "file_menu.add_command(label=\"Can i see some Directors\")\n",
    "file_menu.add_command(label=\"Can i see some Actors\")\n",
    "main_menu.add_cascade(label=\"Sample Questions\", menu=file_menu)\n",
    "# Add the rest of the menu options to the main menu\n",
    "root.config(menu=main_menu)\n",
    "\n",
    "chatWindow = Label(root, textvariable=bot, wraplength=350, bd=1, bg=\"white\", width=\"50\", height=\"8\", font=(\"Arial\", 15),\n",
    "                   foreground=\"black\")\n",
    "chatWindow.place(x=6, y=6, height=385, width=370)\n",
    "\n",
    "messageWindow = Entry(root, textvariable=user, bd=0, bg=\"white\", font=(\"Arial\", 10), foreground=\"black\")\n",
    "messageWindow.place(x=128, y=400, height=88, width=260)\n",
    "\n",
    "\n",
    "def main():\n",
    "    question = user.get()\n",
    "    bot.set(response(question))\n",
    "\n",
    "\n",
    "Button = Button(root, text=\"Send\", width=\"12\", height=5,\n",
    "                bd=0, bg=\"#0080ff\", activebackground=\"#00bfff\", foreground='#ffffff', font=(\"Arial\", 12), command=main)\n",
    "Button.place(x=6, y=400, height=88)\n",
    "root.mainloop()"
   ],
   "metadata": {
    "collapsed": false,
    "pycharm": {
     "name": "#%%\n"
    }
   }
  }
 ],
 "metadata": {
  "kernelspec": {
   "name": "python3",
   "language": "python",
   "display_name": "Python 3"
  },
  "language_info": {
   "codemirror_mode": {
    "name": "ipython",
    "version": 2
   },
   "file_extension": ".py",
   "mimetype": "text/x-python",
   "name": "python",
   "nbconvert_exporter": "python",
   "pygments_lexer": "ipython2",
   "version": "2.7.6"
  }
 },
 "nbformat": 4,
 "nbformat_minor": 0
}